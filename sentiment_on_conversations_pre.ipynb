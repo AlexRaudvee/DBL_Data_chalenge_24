{
 "cells": [
  {
   "cell_type": "code",
   "execution_count": 2,
   "metadata": {},
   "outputs": [
    {
     "name": "stdout",
     "output_type": "stream",
     "text": [
      "Intel MKL WARNING: Support of Intel(R) Streaming SIMD Extensions 4.2 (Intel(R) SSE4.2) enabled only processors has been deprecated. Intel oneAPI Math Kernel Library 2025.0 will require Intel(R) Advanced Vector Extensions (Intel(R) AVX) instructions.\n",
      "Intel MKL WARNING: Support of Intel(R) Streaming SIMD Extensions 4.2 (Intel(R) SSE4.2) enabled only processors has been deprecated. Intel oneAPI Math Kernel Library 2025.0 will require Intel(R) Advanced Vector Extensions (Intel(R) AVX) instructions.\n"
     ]
    }
   ],
   "source": [
    "# imports \n",
    "\n",
    "import re\n",
    "import sqlite3\n",
    "import emoji\n",
    "\n",
    "import numpy as np\n",
    "import pandas as pd\n",
    "import matplotlib as mpl\n",
    "import matplotlib.pyplot as plt\n",
    "\n",
    "from tqdm import tqdm\n",
    "from matplotlib.ticker import MaxNLocator\n",
    "from datetime import datetime \n",
    "\n",
    "tqdm.pandas()"
   ]
  },
  {
   "cell_type": "code",
   "execution_count": 3,
   "metadata": {},
   "outputs": [],
   "source": [
    "# paths \n",
    "\n",
    "path_to_db = '/Users/alexraudvee/Downloads/test.db'\n",
    "\n",
    "path_to_conv = '/Users/alexraudvee/Desktop/TU:e/Q4Y1_data_challenge_1/conversations.json'"
   ]
  },
  {
   "cell_type": "code",
   "execution_count": 4,
   "metadata": {},
   "outputs": [
    {
     "name": "stdout",
     "output_type": "stream",
     "text": [
      "Succesfuly connected to the database\n",
      "---TABLE NAMES IN DB---\n",
      "-----------------------\n",
      "users\n",
      "-----------------------\n",
      "tweets\n",
      "-----------------------\n",
      "tweets_geo\n",
      "-----------------------\n",
      "replies\n",
      "-----------------------\n",
      "retweets\n",
      "-----------------------\n",
      "quotes\n",
      "-----------------------\n",
      "hashtags\n",
      "-----------------------\n",
      "sqlite_sequence\n",
      "-----------------------\n",
      "symbols\n",
      "-----------------------\n",
      "user_mentions\n",
      "-----------------------\n"
     ]
    }
   ],
   "source": [
    "# connection to the database with sentiment scores\n",
    "\n",
    "try:\n",
    "    connection = sqlite3.connect(path_to_db)\n",
    "    print('Succesfuly connected to the database')\n",
    "\n",
    "    query = \"\"\"\n",
    "        SELECT name FROM sqlite_master  \n",
    "        WHERE type='table';\n",
    "        \"\"\"\n",
    "\n",
    "    cursor = connection.cursor()\n",
    "    cursor.execute(query)\n",
    "    list_of_tables = cursor.fetchall()\n",
    "\n",
    "    print('---TABLE NAMES IN DB---')\n",
    "    for table_name in list_of_tables:\n",
    "        print('-----------------------')\n",
    "        print(table_name[0])\n",
    "\n",
    "    print('-----------------------')\n",
    "    \n",
    "except sqlite3.Error as e:\n",
    "    print(e)\n"
   ]
  },
  {
   "cell_type": "code",
   "execution_count": 5,
   "metadata": {},
   "outputs": [],
   "source": [
    "# tweets table\n",
    "def get_tweets(conn):\n",
    "    query = \"\"\"\n",
    "        SELECT *\n",
    "        FROM tweets\n",
    "    \"\"\"\n",
    "\n",
    "    df = pd.read_sql(query, conn)\n",
    "    return df\n",
    "\n",
    "# users table\n",
    "def get_users(conn):\n",
    "    query = \"\"\"\n",
    "        SELECT *\n",
    "        FROM users\n",
    "    \"\"\"\n",
    "\n",
    "    df = pd.read_sql(query, conn)\n",
    "    return df\n",
    "\n",
    "# tweets geo table \n",
    "def get_tweets_geo(conn):\n",
    "    query = \"\"\"\n",
    "        SELECT *\n",
    "        FROM tweets_geo\n",
    "    \"\"\"\n",
    "\n",
    "    df = pd.read_sql(query, conn)\n",
    "    return df\n",
    "\n",
    "# replies table\n",
    "def get_replies(conn):\n",
    "    query = \"\"\"\n",
    "        SELECT *\n",
    "        FROM replies\n",
    "    \"\"\"\n",
    "\n",
    "    df = pd.read_sql(query, conn)\n",
    "    return df\n",
    "\n",
    "# retweets table\n",
    "def get_retweets(conn):\n",
    "    query = \"\"\"\n",
    "        SELECT *\n",
    "        FROM retweets\n",
    "    \"\"\"\n",
    "\n",
    "    df = pd.read_sql(query, conn)\n",
    "    return df\n",
    "\n",
    "# quotes table\n",
    "def get_quotes(conn):\n",
    "    query = \"\"\"\n",
    "        SELECT *\n",
    "        FROM quotes\n",
    "    \"\"\"\n",
    "\n",
    "    df = pd.read_sql(query, conn)\n",
    "    return df\n",
    "\n",
    "# hastags table \n",
    "def get_hashtags(conn):\n",
    "    query = \"\"\"\n",
    "        SELECT *\n",
    "        FROM hashtags\n",
    "    \"\"\"\n",
    "\n",
    "    df = pd.read_sql(query, conn)\n",
    "    return df\n",
    "\n",
    "# symbols table \n",
    "def get_symbols(conn):\n",
    "    query = \"\"\"\n",
    "        SELECT *\n",
    "        FROM symbols\n",
    "    \"\"\"\n",
    "\n",
    "    df = pd.read_sql(query, conn)\n",
    "    return df\n",
    "\n",
    "# user mentions table \n",
    "def get_user_mentions(conn):\n",
    "    query = \"\"\"\n",
    "        SELECT *\n",
    "        FROM user_mentions\n",
    "    \"\"\"\n",
    "\n",
    "    df = pd.read_sql(query, conn)\n",
    "    return df"
   ]
  },
  {
   "cell_type": "code",
   "execution_count": 6,
   "metadata": {},
   "outputs": [],
   "source": [
    "# construct the dataframes for further analysis \n",
    "\n",
    "df_tweets = get_tweets(conn=connection)\n",
    "df_users = get_users(conn=connection)\n",
    "df_replies = get_replies(conn=connection)\n",
    "df_retweets = get_retweets(conn=connection)\n",
    "df_quotes = get_quotes(conn=connection)\n",
    "df_tweets_geo = get_tweets_geo(conn=connection)\n",
    "df_user_metions = get_user_mentions(conn=connection)\n",
    "df_symbols = get_symbols(conn=connection)\n",
    "df_hastags = get_hashtags(conn=connection)"
   ]
  },
  {
   "cell_type": "code",
   "execution_count": 7,
   "metadata": {},
   "outputs": [],
   "source": [
    "# function to convert the sentiment label in numeric value\n",
    "\n",
    "def convert_lable(lable):\n",
    "    \n",
    "    if lable == 'neutral':\n",
    "        return int(0)\n",
    "    elif lable == 'negative':\n",
    "        return int(-1)\n",
    "    elif lable == 'positive':\n",
    "        return int(1)\n",
    "    else:\n",
    "        return None"
   ]
  },
  {
   "cell_type": "code",
   "execution_count": 8,
   "metadata": {},
   "outputs": [],
   "source": [
    "# add new column with numeric values\n",
    "\n",
    "df_tweets['sentiment_numeric'] = df_tweets['sentiment_label'].apply(lambda row: convert_lable(row))"
   ]
  },
  {
   "cell_type": "code",
   "execution_count": 9,
   "metadata": {},
   "outputs": [],
   "source": [
    "# construct the dataframe with conversations \n",
    "\n",
    "df_covs = pd.read_json(path_to_conv)"
   ]
  },
  {
   "cell_type": "code",
   "execution_count": 13,
   "metadata": {},
   "outputs": [],
   "source": [
    "df_sentiment = df_tweets[['tweet_id', 'sentiment_label']] \n",
    "\n",
    "df_covs_sentiment = pd.merge(df_covs, df_sentiment, on='tweet_id')"
   ]
  },
  {
   "cell_type": "code",
   "execution_count": 18,
   "metadata": {},
   "outputs": [],
   "source": [
    "df_covs_sentiment['respond_time'] = df_covs_sentiment['timestamp'].diff()"
   ]
  },
  {
   "cell_type": "code",
   "execution_count": 20,
   "metadata": {},
   "outputs": [
    {
     "data": {
      "text/plain": [
       "0         2019-05-22 12:20:36.540\n",
       "1         2019-05-22 12:32:28.175\n",
       "2         2019-05-22 12:48:25.404\n",
       "3         2019-05-22 21:50:31.782\n",
       "4         2019-05-22 22:04:33.425\n",
       "                    ...          \n",
       "1040225   2020-03-30 18:39:02.293\n",
       "1040226   2020-03-30 18:26:49.145\n",
       "1040227   2020-03-30 18:33:44.275\n",
       "1040228   2020-03-30 18:36:54.350\n",
       "1040229   2020-03-30 18:40:56.391\n",
       "Name: timestamp, Length: 1040230, dtype: datetime64[ns]"
      ]
     },
     "execution_count": 20,
     "metadata": {},
     "output_type": "execute_result"
    }
   ],
   "source": [
    "df_covs_sentiment['timestamp']"
   ]
  },
  {
   "cell_type": "code",
   "execution_count": null,
   "metadata": {},
   "outputs": [],
   "source": []
  }
 ],
 "metadata": {
  "kernelspec": {
   "display_name": "personal_use",
   "language": "python",
   "name": "python3"
  },
  "language_info": {
   "codemirror_mode": {
    "name": "ipython",
    "version": 3
   },
   "file_extension": ".py",
   "mimetype": "text/x-python",
   "name": "python",
   "nbconvert_exporter": "python",
   "pygments_lexer": "ipython3",
   "version": "3.10.9"
  },
  "orig_nbformat": 4
 },
 "nbformat": 4,
 "nbformat_minor": 2
}
